{
 "cells": [
  {
   "cell_type": "code",
   "execution_count": 21,
   "metadata": {},
   "outputs": [],
   "source": [
    "from sklearn.svm import SVC\n",
    "from sklearn.ensemble import BaggingClassifier\n",
    "from sklearn.datasets import make_classification"
   ]
  },
  {
   "cell_type": "markdown",
   "metadata": {},
   "source": [
    "## Bagging Classifier"
   ]
  },
  {
   "cell_type": "code",
   "execution_count": 22,
   "metadata": {},
   "outputs": [],
   "source": [
    "# Generate a random classification problem\n",
    "X, y = make_classification(n_samples=100, n_features=4,n_informative=2, n_redundant=0,\n",
    "                          random_state=0, shuffle=False)"
   ]
  },
  {
   "cell_type": "code",
   "execution_count": 23,
   "metadata": {},
   "outputs": [
    {
     "data": {
      "text/plain": [
       "array([[ 4.22341441e-01, -2.05321581e+00,  9.10178908e-01,\n",
       "         3.17218215e-01],\n",
       "       [-1.25732069e+00, -3.19826339e+00,  7.86327962e-01,\n",
       "        -4.66419097e-01],\n",
       "       [ 1.23195055e+00, -9.95105317e-01, -9.44446256e-01,\n",
       "        -4.10049693e-01],\n",
       "       [-4.37843295e-02, -1.27395967e+00, -1.70204139e-02,\n",
       "         3.79151736e-01],\n",
       "       [-1.30819171e+00, -1.28532883e+00,  2.25930895e+00,\n",
       "        -4.22571517e-02],\n",
       "       [-1.62073375e+00, -2.22244349e+00, -9.55945000e-01,\n",
       "        -3.45981776e-01],\n",
       "       [-3.59967304e-01, -1.41363563e+00, -4.63595975e-01,\n",
       "         4.81481474e-01],\n",
       "       [-7.62884416e-01, -1.45125944e+00, -1.54079701e+00,\n",
       "         6.32619942e-02],\n",
       "       [ 4.86681188e-01, -1.45709006e+00,  1.56506538e-01,\n",
       "         2.32181036e-01],\n",
       "       [-2.68051210e-01, -4.47369310e-01, -5.97316069e-01,\n",
       "        -2.37921730e-01],\n",
       "       [-3.69743600e+00, -4.61220130e-01, -1.42406091e+00,\n",
       "        -4.93319883e-01],\n",
       "       [ 1.83324682e-01, -7.66054695e-01, -5.42861476e-01,\n",
       "         4.16050046e-01],\n",
       "       [ 1.85082392e+00, -7.80910684e-01, -1.15618243e+00,\n",
       "         7.81198102e-01],\n",
       "       [-8.60699619e-01, -8.69385004e-01,  1.49448454e+00,\n",
       "        -2.06998503e+00],\n",
       "       [-3.45538051e-01, -2.81180710e+00,  4.26258731e-01,\n",
       "         6.76908035e-01],\n",
       "       [-1.05286598e+00, -1.36672011e+00, -6.37437026e-01,\n",
       "        -3.97271814e-01],\n",
       "       [-7.93470192e-01,  9.52529622e-01, -1.32880578e-01,\n",
       "        -2.97790879e-01],\n",
       "       [-1.40246886e+00, -9.80358459e-01, -3.09012969e-01,\n",
       "        -1.67600381e+00],\n",
       "       [-4.86612462e-01, -2.47263494e+00,  1.15233156e+00,\n",
       "         1.07961859e+00],\n",
       "       [-1.20114435e+00, -5.97321845e-01, -8.13364259e-01,\n",
       "        -1.46642433e+00],\n",
       "       [-1.23267396e+00,  5.71068197e-01,  5.21064876e-01,\n",
       "        -5.75787970e-01],\n",
       "       [-3.58754622e+00, -1.85016853e+00,  1.41953163e-01,\n",
       "        -3.19328417e-01],\n",
       "       [-1.24378126e+00, -4.37933163e-01,  6.91538751e-01,\n",
       "         6.94749144e-01],\n",
       "       [-2.56042975e+00, -1.10074198e+00, -7.25597378e-01,\n",
       "        -1.38336396e+00],\n",
       "       [-2.38076394e+00, -1.59027524e-01, -1.58293840e+00,\n",
       "         6.10379379e-01],\n",
       "       [-2.47553402e-03,  4.51394467e-01, -1.18885926e+00,\n",
       "        -5.06816354e-01],\n",
       "       [-9.07197428e-01, -1.12132974e-01, -5.96314038e-01,\n",
       "        -5.25672963e-02],\n",
       "       [-8.27182474e-01,  1.22006997e+00, -1.93627981e+00,\n",
       "         1.88778597e-01],\n",
       "       [-9.61541555e-01,  1.22964368e+00,  5.23891024e-01,\n",
       "         8.84220870e-02],\n",
       "       [-5.09792713e-01,  2.48206729e-01, -3.10886172e-01,\n",
       "         9.74001663e-02],\n",
       "       [-4.71824167e-01,  2.17261785e-01,  3.99046346e-01,\n",
       "        -2.77259276e+00],\n",
       "       [-8.00221059e-01, -6.83049356e-01,  1.95591231e+00,\n",
       "         3.90093323e-01],\n",
       "       [-1.30813451e+00,  9.23281451e-01, -6.52408582e-01,\n",
       "        -3.90953375e-01],\n",
       "       [ 7.33899962e-01, -1.36508549e-01,  4.93741777e-01,\n",
       "        -1.16103939e-01],\n",
       "       [-1.04862023e-01,  2.50202269e-01, -2.03068447e+00,\n",
       "         2.06449286e+00],\n",
       "       [-1.66130052e+00,  1.69989125e+00, -1.10540657e-01,\n",
       "         1.02017271e+00],\n",
       "       [-2.52159550e+00,  1.27458364e+00, -6.92049848e-01,\n",
       "         1.53637705e+00],\n",
       "       [-1.62184212e+00,  9.55083877e-01,  2.86343689e-01,\n",
       "         6.08843834e-01],\n",
       "       [-3.54528872e-01, -7.81871442e-02, -1.04525337e+00,\n",
       "         1.21114529e+00],\n",
       "       [-6.79598011e-01,  7.64389529e-01,  6.89818165e-01,\n",
       "         1.30184623e+00],\n",
       "       [ 4.32994532e-01,  5.12814562e-01, -6.28087560e-01,\n",
       "        -4.81027118e-01],\n",
       "       [-1.97242756e+00,  5.23902618e-01,  2.30391670e+00,\n",
       "        -1.06001582e+00],\n",
       "       [-1.79506345e+00,  3.35973253e+00, -1.35949701e-01,\n",
       "         1.13689136e+00],\n",
       "       [-2.20119016e+00,  1.91002859e+00,  9.77249677e-02,\n",
       "         5.82953680e-01],\n",
       "       [ 3.93906076e-01,  6.81520677e-01, -3.99449029e-01,\n",
       "         3.70055888e-01],\n",
       "       [-1.94643859e-01,  1.35081491e+00, -1.30652685e+00,\n",
       "         1.65813068e+00],\n",
       "       [-8.69536952e-01,  1.73590335e+00, -1.18164045e-01,\n",
       "        -6.80178204e-01],\n",
       "       [-1.10453952e+00,  1.70910242e+00,  6.66383082e-01,\n",
       "        -4.60719787e-01],\n",
       "       [-4.03257104e-01,  2.02751248e+00, -1.33425847e+00,\n",
       "        -1.34671751e+00],\n",
       "       [-9.86132567e-01,  1.33828180e+00,  6.93773153e-01,\n",
       "        -1.59573438e-01],\n",
       "       [ 1.35329628e+00, -6.35812195e-01, -1.33701560e-01,\n",
       "         1.07774381e+00],\n",
       "       [ 7.09216593e-01, -1.24743076e+00, -1.12682581e+00,\n",
       "        -7.30677753e-01],\n",
       "       [-1.82896522e-01, -1.25860859e+00, -3.84879809e-01,\n",
       "         9.43515893e-02],\n",
       "       [ 1.83240861e+00, -1.04999632e+00, -4.21714513e-02,\n",
       "        -2.86887192e-01],\n",
       "       [-1.13058206e+00, -7.10233633e-01, -6.16264021e-02,\n",
       "        -1.07305276e-01],\n",
       "       [-6.05415797e-01, -7.03291920e-01, -7.19604389e-01,\n",
       "        -8.12992989e-01],\n",
       "       [-2.89788250e-01, -1.20374176e+00,  2.74516358e-01,\n",
       "        -8.90915083e-01],\n",
       "       [ 4.17180364e-01, -1.06938289e+00, -1.15735526e+00,\n",
       "        -3.12292251e-01],\n",
       "       [ 7.21669496e-01, -8.31839865e-01, -1.57667016e-01,\n",
       "         2.25672350e+00],\n",
       "       [-7.23168038e-02, -9.20383253e-01, -7.04700276e-01,\n",
       "         9.43260725e-01],\n",
       "       [ 1.79445113e+00, -9.03343950e-01,  7.47188334e-01,\n",
       "        -1.18894496e+00],\n",
       "       [-2.86920000e-01, -9.86585088e-01,  7.73252977e-01,\n",
       "        -1.18388064e+00],\n",
       "       [ 1.43370121e+00, -1.11573423e+00, -2.65917224e+00,\n",
       "         6.06319524e-01],\n",
       "       [-4.22761581e-01, -1.12836011e+00, -1.75589058e+00,\n",
       "         4.50934462e-01],\n",
       "       [ 3.51173413e-01, -8.95526209e-01, -6.84010898e-01,\n",
       "         1.65955080e+00],\n",
       "       [ 8.65825460e-01, -1.14855777e+00,  1.06850940e+00,\n",
       "        -4.53385804e-01],\n",
       "       [ 1.26661394e+00, -1.11745336e+00, -6.87837611e-01,\n",
       "        -1.21407740e+00],\n",
       "       [ 6.87661760e-01, -1.12933108e+00, -4.40922632e-01,\n",
       "        -2.80355495e-01],\n",
       "       [ 9.29950318e-01, -8.94365876e-01, -3.64693544e-01,\n",
       "         1.56703855e-01],\n",
       "       [ 1.78037474e+00, -9.00142145e-01,  5.78521498e-01,\n",
       "         3.49654457e-01],\n",
       "       [ 1.26780440e+00, -1.27034986e+00, -7.64143924e-01,\n",
       "        -1.43779147e+00],\n",
       "       [ 3.73436160e-01, -9.89449288e-01,  1.36453185e+00,\n",
       "        -6.89449185e-01],\n",
       "       [-8.64008129e-01, -6.15293010e-01, -6.52293600e-01,\n",
       "        -5.21189312e-01],\n",
       "       [ 4.24345081e-01, -1.18986266e+00, -1.84306955e+00,\n",
       "        -4.77974004e-01],\n",
       "       [ 1.97698901e+00, -1.21414740e+00, -4.79655814e-01,\n",
       "         6.20358298e-01],\n",
       "       [ 3.80251566e-01,  2.53026908e+00,  6.98457149e-01,\n",
       "         3.77088909e-03],\n",
       "       [ 5.56269743e-01, -3.23726922e-01,  9.31848374e-01,\n",
       "         3.39964984e-01],\n",
       "       [ 1.12073484e+00,  3.13380666e-01, -1.56821116e-02,\n",
       "         1.60928168e-01],\n",
       "       [ 2.42548085e+00,  8.51440362e-01, -1.90653494e-01,\n",
       "        -3.94849514e-01],\n",
       "       [ 4.58931008e-02, -2.68225264e-01, -2.67733537e-01,\n",
       "        -1.12801133e+00],\n",
       "       [-1.00171129e-01,  2.40620516e+00,  2.80441705e-01,\n",
       "        -9.93123611e-01],\n",
       "       [ 1.87834887e+00,  1.79574591e+00,  8.41631264e-01,\n",
       "        -2.49458580e-01],\n",
       "       [-4.43584187e-01,  8.56699698e-01,  4.94949817e-02,\n",
       "         4.93836776e-01],\n",
       "       [ 5.44818813e-01, -1.17921312e+00,  6.43314465e-01,\n",
       "        -1.57062341e+00],\n",
       "       [ 2.03196825e+00,  2.18718140e+00, -2.06903676e-01,\n",
       "         8.80178912e-01],\n",
       "       [ 1.77624479e+00,  1.98764670e+00, -1.69810582e+00,\n",
       "         3.87280475e-01],\n",
       "       [ 2.02899023e+00,  1.04421447e+00, -2.25556423e+00,\n",
       "        -1.02250684e+00],\n",
       "       [-2.08311803e-01,  8.50411665e-01,  3.86305518e-02,\n",
       "        -1.65671510e+00],\n",
       "       [ 4.55946498e-01, -2.41527100e-01, -9.85510738e-01,\n",
       "        -1.47183501e+00],\n",
       "       [ 5.59313196e-01,  6.73114962e-01,  1.64813493e+00,\n",
       "         1.64227755e-01],\n",
       "       [ 1.10698637e+00, -5.35834091e-01,  5.67290278e-01,\n",
       "        -2.22675101e-01],\n",
       "       [ 1.10502647e+00, -1.53716448e+00, -3.53431749e-01,\n",
       "        -1.61647419e+00],\n",
       "       [ 2.11564734e+00, -8.11815767e-03, -2.91837363e-01,\n",
       "        -7.61492212e-01],\n",
       "       [-7.15602562e-02,  2.16543447e-01,  8.57923924e-01,\n",
       "         1.14110187e+00],\n",
       "       [-2.05721672e-01,  1.86752028e+00,  1.46657872e+00,\n",
       "         8.52551939e-01],\n",
       "       [-3.21105367e-01,  2.72990606e-01, -5.98653937e-01,\n",
       "        -1.11589699e+00],\n",
       "       [ 1.34057624e+00, -1.07894567e-01,  7.66663182e-01,\n",
       "         3.56292817e-01],\n",
       "       [ 1.55525060e+00,  1.23567148e+00, -1.76853845e+00,\n",
       "         3.55481793e-01],\n",
       "       [ 1.47049892e+00,  2.34137626e+00,  8.14519822e-01,\n",
       "         5.89255892e-02],\n",
       "       [ 2.63325914e+00,  3.86274219e+00, -1.85053671e-01,\n",
       "        -8.07648488e-01]])"
      ]
     },
     "execution_count": 23,
     "metadata": {},
     "output_type": "execute_result"
    }
   ],
   "source": [
    "X"
   ]
  },
  {
   "cell_type": "code",
   "execution_count": 24,
   "metadata": {},
   "outputs": [
    {
     "data": {
      "text/plain": [
       "array([0, 0, 0, 0, 0, 0, 0, 0, 0, 0, 1, 0, 0, 0, 0, 0, 0, 0, 0, 0, 0, 0,\n",
       "       0, 0, 0, 1, 1, 1, 1, 1, 1, 1, 1, 1, 1, 1, 1, 1, 1, 1, 1, 1, 1, 1,\n",
       "       1, 1, 1, 1, 1, 1, 0, 0, 0, 0, 0, 0, 0, 0, 0, 0, 0, 0, 0, 0, 0, 0,\n",
       "       0, 0, 0, 0, 0, 0, 0, 0, 0, 1, 1, 1, 1, 1, 1, 1, 1, 1, 1, 1, 1, 1,\n",
       "       1, 1, 1, 1, 1, 1, 1, 1, 1, 1, 1, 1])"
      ]
     },
     "execution_count": 24,
     "metadata": {},
     "output_type": "execute_result"
    }
   ],
   "source": [
    "y"
   ]
  },
  {
   "cell_type": "code",
   "execution_count": 25,
   "metadata": {},
   "outputs": [
    {
     "data": {
      "image/png": "[encoded data removed]",
      "text/plain": [
       "<Figure size 800x600 with 1 Axes>"
      ]
     },
     "metadata": {},
     "output_type": "display_data"
    }
   ],
   "source": [
    "import matplotlib.pyplot as plt\n",
    "# Visualize the generated data\n",
    "plt.figure(figsize=(8, 6))\n",
    "\n",
    "# Plot points for each class\n",
    "plt.scatter(X[y == 0][:, 0], X[y == 0][:, 1], color='blue', label='Class 0')\n",
    "plt.scatter(X[y== 1][:, 0], X[y == 1][:, 1], color='red', label='Class 1')\n",
    "\n",
    "# Add labels and a legend\n",
    "plt.title('Synthetic Classification Data')\n",
    "plt.xlabel('Feature 1')\n",
    "plt.ylabel('Feature 2')\n",
    "plt.legend()\n",
    "\n",
    "# Show the plot\n",
    "plt.show()"
   ]
  },
  {
   "cell_type": "markdown",
   "metadata": {},
   "source": [
    "### instead of using 1 model I use 10 SVM models \n"
   ]
  },
  {
   "cell_type": "code",
   "execution_count": 26,
   "metadata": {},
   "outputs": [
    {
     "data": {
      "text/html": [
       "<style>#sk-container-id-6 {color: black;background-color: white;}#sk-container-id-6 pre{padding: 0;}#sk-container-id-6 div.sk-toggleable {background-color: white;}#sk-container-id-6 label.sk-toggleable__label {cursor: pointer;display: block;width: 100%;margin-bottom: 0;padding: 0.3em;box-sizing: border-box;text-align: center;}#sk-container-id-6 label.sk-toggleable__label-arrow:before {content: \"▸\";float: left;margin-right: 0.25em;color: #696969;}#sk-container-id-6 label.sk-toggleable__label-arrow:hover:before {color: black;}#sk-container-id-6 div.sk-estimator:hover label.sk-toggleable__label-arrow:before {color: black;}#sk-container-id-6 div.sk-toggleable__content {max-height: 0;max-width: 0;overflow: hidden;text-align: left;background-color: #f0f8ff;}#sk-container-id-6 div.sk-toggleable__content pre {margin: 0.2em;color: black;border-radius: 0.25em;background-color: #f0f8ff;}#sk-container-id-6 input.sk-toggleable__control:checked~div.sk-toggleable__content {max-height: 200px;max-width: 100%;overflow: auto;}#sk-container-id-6 input.sk-toggleable__control:checked~label.sk-toggleable__label-arrow:before {content: \"▾\";}#sk-container-id-6 div.sk-estimator input.sk-toggleable__control:checked~label.sk-toggleable__label {background-color: #d4ebff;}#sk-container-id-6 div.sk-label input.sk-toggleable__control:checked~label.sk-toggleable__label {background-color: #d4ebff;}#sk-container-id-6 input.sk-hidden--visually {border: 0;clip: rect(1px 1px 1px 1px);clip: rect(1px, 1px, 1px, 1px);height: 1px;margin: -1px;overflow: hidden;padding: 0;position: absolute;width: 1px;}#sk-container-id-6 div.sk-estimator {font-family: monospace;background-color: #f0f8ff;border: 1px dotted black;border-radius: 0.25em;box-sizing: border-box;margin-bottom: 0.5em;}#sk-container-id-6 div.sk-estimator:hover {background-color: #d4ebff;}#sk-container-id-6 div.sk-parallel-item::after {content: \"\";width: 100%;border-bottom: 1px solid gray;flex-grow: 1;}#sk-container-id-6 div.sk-label:hover label.sk-toggleable__label {background-color: #d4ebff;}#sk-container-id-6 div.sk-serial::before {content: \"\";position: absolute;border-left: 1px solid gray;box-sizing: border-box;top: 0;bottom: 0;left: 50%;z-index: 0;}#sk-container-id-6 div.sk-serial {display: flex;flex-direction: column;align-items: center;background-color: white;padding-right: 0.2em;padding-left: 0.2em;position: relative;}#sk-container-id-6 div.sk-item {position: relative;z-index: 1;}#sk-container-id-6 div.sk-parallel {display: flex;align-items: stretch;justify-content: center;background-color: white;position: relative;}#sk-container-id-6 div.sk-item::before, #sk-container-id-6 div.sk-parallel-item::before {content: \"\";position: absolute;border-left: 1px solid gray;box-sizing: border-box;top: 0;bottom: 0;left: 50%;z-index: -1;}#sk-container-id-6 div.sk-parallel-item {display: flex;flex-direction: column;z-index: 1;position: relative;background-color: white;}#sk-container-id-6 div.sk-parallel-item:first-child::after {align-self: flex-end;width: 50%;}#sk-container-id-6 div.sk-parallel-item:last-child::after {align-self: flex-start;width: 50%;}#sk-container-id-6 div.sk-parallel-item:only-child::after {width: 0;}#sk-container-id-6 div.sk-dashed-wrapped {border: 1px dashed gray;margin: 0 0.4em 0.5em 0.4em;box-sizing: border-box;padding-bottom: 0.4em;background-color: white;}#sk-container-id-6 div.sk-label label {font-family: monospace;font-weight: bold;display: inline-block;line-height: 1.2em;}#sk-container-id-6 div.sk-label-container {text-align: center;}#sk-container-id-6 div.sk-container {/* jupyter's `normalize.less` sets `[hidden] { display: none; }` but bootstrap.min.css set `[hidden] { display: none !important; }` so we also need the `!important` here to be able to override the default hidden behavior on the sphinx rendered scikit-learn.org. See: https://github.com/scikit-learn/scikit-learn/issues/21755 */display: inline-block !important;position: relative;}#sk-container-id-6 div.sk-text-repr-fallback {display: none;}</style><div id=\"sk-container-id-6\" class=\"sk-top-container\"><div class=\"sk-text-repr-fallback\"><pre>BaggingClassifier(estimator=SVC(), random_state=0)</pre><b>In a Jupyter environment, please rerun this cell to show the HTML representation or trust the notebook. <br />On GitHub, the HTML representation is unable to render, please try loading this page with nbviewer.org.</b></div><div class=\"sk-container\" hidden><div class=\"sk-item sk-dashed-wrapped\"><div class=\"sk-label-container\"><div class=\"sk-label sk-toggleable\"><input class=\"sk-toggleable__control sk-hidden--visually\" id=\"sk-estimator-id-15\" type=\"checkbox\" ><label for=\"sk-estimator-id-15\" class=\"sk-toggleable__label sk-toggleable__label-arrow\">BaggingClassifier</label><div class=\"sk-toggleable__content\"><pre>BaggingClassifier(estimator=SVC(), random_state=0)</pre></div></div></div><div class=\"sk-parallel\"><div class=\"sk-parallel-item\"><div class=\"sk-item\"><div class=\"sk-label-container\"><div class=\"sk-label sk-toggleable\"><input class=\"sk-toggleable__control sk-hidden--visually\" id=\"sk-estimator-id-16\" type=\"checkbox\" ><label for=\"sk-estimator-id-16\" class=\"sk-toggleable__label sk-toggleable__label-arrow\">estimator: SVC</label><div class=\"sk-toggleable__content\"><pre>SVC()</pre></div></div></div><div class=\"sk-serial\"><div class=\"sk-item\"><div class=\"sk-estimator sk-toggleable\"><input class=\"sk-toggleable__control sk-hidden--visually\" id=\"sk-estimator-id-17\" type=\"checkbox\" ><label for=\"sk-estimator-id-17\" class=\"sk-toggleable__label sk-toggleable__label-arrow\">SVC</label><div class=\"sk-toggleable__content\"><pre>SVC()</pre></div></div></div></div></div></div></div></div></div></div>"
      ],
      "text/plain": [
       "BaggingClassifier(estimator=SVC(), random_state=0)"
      ]
     },
     "execution_count": 26,
     "metadata": {},
     "output_type": "execute_result"
    }
   ],
   "source": [
    "# Initialize the Bagging classifier with SVC as the base estimator\n",
    "clf = BaggingClassifier(SVC(),n_estimators=10, random_state=0).fit(X, y)\n",
    "clf"
   ]
  },
  {
   "cell_type": "code",
   "execution_count": 11,
   "metadata": {},
   "outputs": [
    {
     "name": "stdout",
     "output_type": "stream",
     "text": [
      "Name: scikit-learn\n",
      "Version: 1.2.2\n",
      "Summary: A set of python modules for machine learning and data mining\n",
      "Home-page: http://scikit-learn.org\n",
      "Author: \n",
      "Author-email: \n",
      "License: new BSD\n",
      "Location: d:\\ANACONDA\\Lib\\site-packages\n",
      "Requires: joblib, numpy, scipy, threadpoolctl\n",
      "Required-by: Customer-Personality-Analysis, daal4py, DimondPricePrediction, imbalanced-learn, scikit-learn-intelex, shap\n",
      "Note: you may need to restart the kernel to use updated packages.\n"
     ]
    }
   ],
   "source": [
    "pip show scikit-learn\n"
   ]
  },
  {
   "cell_type": "markdown",
   "metadata": {},
   "source": [
    "single value prediction "
   ]
  },
  {
   "cell_type": "code",
   "execution_count": 15,
   "metadata": {},
   "outputs": [
    {
     "data": {
      "text/plain": [
       "array([1])"
      ]
     },
     "execution_count": 15,
     "metadata": {},
     "output_type": "execute_result"
    }
   ],
   "source": [
    "\n",
    "clf.predict([[0,0,0,0]])"
   ]
  },
  {
   "cell_type": "code",
   "execution_count": 14,
   "metadata": {},
   "outputs": [
    {
     "data": {
      "text/html": [
       "<style>#sk-container-id-4 {color: black;background-color: white;}#sk-container-id-4 pre{padding: 0;}#sk-container-id-4 div.sk-toggleable {background-color: white;}#sk-container-id-4 label.sk-toggleable__label {cursor: pointer;display: block;width: 100%;margin-bottom: 0;padding: 0.3em;box-sizing: border-box;text-align: center;}#sk-container-id-4 label.sk-toggleable__label-arrow:before {content: \"▸\";float: left;margin-right: 0.25em;color: #696969;}#sk-container-id-4 label.sk-toggleable__label-arrow:hover:before {color: black;}#sk-container-id-4 div.sk-estimator:hover label.sk-toggleable__label-arrow:before {color: black;}#sk-container-id-4 div.sk-toggleable__content {max-height: 0;max-width: 0;overflow: hidden;text-align: left;background-color: #f0f8ff;}#sk-container-id-4 div.sk-toggleable__content pre {margin: 0.2em;color: black;border-radius: 0.25em;background-color: #f0f8ff;}#sk-container-id-4 input.sk-toggleable__control:checked~div.sk-toggleable__content {max-height: 200px;max-width: 100%;overflow: auto;}#sk-container-id-4 input.sk-toggleable__control:checked~label.sk-toggleable__label-arrow:before {content: \"▾\";}#sk-container-id-4 div.sk-estimator input.sk-toggleable__control:checked~label.sk-toggleable__label {background-color: #d4ebff;}#sk-container-id-4 div.sk-label input.sk-toggleable__control:checked~label.sk-toggleable__label {background-color: #d4ebff;}#sk-container-id-4 input.sk-hidden--visually {border: 0;clip: rect(1px 1px 1px 1px);clip: rect(1px, 1px, 1px, 1px);height: 1px;margin: -1px;overflow: hidden;padding: 0;position: absolute;width: 1px;}#sk-container-id-4 div.sk-estimator {font-family: monospace;background-color: #f0f8ff;border: 1px dotted black;border-radius: 0.25em;box-sizing: border-box;margin-bottom: 0.5em;}#sk-container-id-4 div.sk-estimator:hover {background-color: #d4ebff;}#sk-container-id-4 div.sk-parallel-item::after {content: \"\";width: 100%;border-bottom: 1px solid gray;flex-grow: 1;}#sk-container-id-4 div.sk-label:hover label.sk-toggleable__label {background-color: #d4ebff;}#sk-container-id-4 div.sk-serial::before {content: \"\";position: absolute;border-left: 1px solid gray;box-sizing: border-box;top: 0;bottom: 0;left: 50%;z-index: 0;}#sk-container-id-4 div.sk-serial {display: flex;flex-direction: column;align-items: center;background-color: white;padding-right: 0.2em;padding-left: 0.2em;position: relative;}#sk-container-id-4 div.sk-item {position: relative;z-index: 1;}#sk-container-id-4 div.sk-parallel {display: flex;align-items: stretch;justify-content: center;background-color: white;position: relative;}#sk-container-id-4 div.sk-item::before, #sk-container-id-4 div.sk-parallel-item::before {content: \"\";position: absolute;border-left: 1px solid gray;box-sizing: border-box;top: 0;bottom: 0;left: 50%;z-index: -1;}#sk-container-id-4 div.sk-parallel-item {display: flex;flex-direction: column;z-index: 1;position: relative;background-color: white;}#sk-container-id-4 div.sk-parallel-item:first-child::after {align-self: flex-end;width: 50%;}#sk-container-id-4 div.sk-parallel-item:last-child::after {align-self: flex-start;width: 50%;}#sk-container-id-4 div.sk-parallel-item:only-child::after {width: 0;}#sk-container-id-4 div.sk-dashed-wrapped {border: 1px dashed gray;margin: 0 0.4em 0.5em 0.4em;box-sizing: border-box;padding-bottom: 0.4em;background-color: white;}#sk-container-id-4 div.sk-label label {font-family: monospace;font-weight: bold;display: inline-block;line-height: 1.2em;}#sk-container-id-4 div.sk-label-container {text-align: center;}#sk-container-id-4 div.sk-container {/* jupyter's `normalize.less` sets `[hidden] { display: none; }` but bootstrap.min.css set `[hidden] { display: none !important; }` so we also need the `!important` here to be able to override the default hidden behavior on the sphinx rendered scikit-learn.org. See: https://github.com/scikit-learn/scikit-learn/issues/21755 */display: inline-block !important;position: relative;}#sk-container-id-4 div.sk-text-repr-fallback {display: none;}</style><div id=\"sk-container-id-4\" class=\"sk-top-container\"><div class=\"sk-text-repr-fallback\"><pre>BaggingClassifier()</pre><b>In a Jupyter environment, please rerun this cell to show the HTML representation or trust the notebook. <br />On GitHub, the HTML representation is unable to render, please try loading this page with nbviewer.org.</b></div><div class=\"sk-container\" hidden><div class=\"sk-item\"><div class=\"sk-estimator sk-toggleable\"><input class=\"sk-toggleable__control sk-hidden--visually\" id=\"sk-estimator-id-10\" type=\"checkbox\" checked><label for=\"sk-estimator-id-10\" class=\"sk-toggleable__label sk-toggleable__label-arrow\">BaggingClassifier</label><div class=\"sk-toggleable__content\"><pre>BaggingClassifier()</pre></div></div></div></div></div>"
      ],
      "text/plain": [
       "BaggingClassifier()"
      ]
     },
     "execution_count": 14,
     "metadata": {},
     "output_type": "execute_result"
    }
   ],
   "source": [
    "clf2 = BaggingClassifier().fit(X, y)\n",
    "clf2"
   ]
  },
  {
   "cell_type": "markdown",
   "metadata": {},
   "source": [
    "By deafult decisionTreeClassifier will be the model. And number of estimators will be  b y default"
   ]
  },
  {
   "cell_type": "code",
   "execution_count": 16,
   "metadata": {},
   "outputs": [
    {
     "data": {
      "text/plain": [
       "array([1])"
      ]
     },
     "execution_count": 16,
     "metadata": {},
     "output_type": "execute_result"
    }
   ],
   "source": [
    "clf2.predict([[0,0,0,0]])"
   ]
  },
  {
   "cell_type": "markdown",
   "metadata": {},
   "source": [
    "Single prediction on SVM()"
   ]
  },
  {
   "cell_type": "code",
   "execution_count": 17,
   "metadata": {},
   "outputs": [
    {
     "data": {
      "text/plain": [
       "array([0])"
      ]
     },
     "execution_count": 17,
     "metadata": {},
     "output_type": "execute_result"
    }
   ],
   "source": [
    "clf.predict([[ 4.22341441e-01, -2.05321581e+00,  9.10178908e-01,\n",
    "         3.17218215e-01]])"
   ]
  },
  {
   "cell_type": "markdown",
   "metadata": {},
   "source": [
    "Single prediction on DT"
   ]
  },
  {
   "cell_type": "code",
   "execution_count": 18,
   "metadata": {},
   "outputs": [
    {
     "data": {
      "text/plain": [
       "array([0])"
      ]
     },
     "execution_count": 18,
     "metadata": {},
     "output_type": "execute_result"
    }
   ],
   "source": [
    "clf2.predict([[ 4.22341441e-01, -2.05321581e+00,  9.10178908e-01,\n",
    "         3.17218215e-01]])"
   ]
  },
  {
   "cell_type": "markdown",
   "metadata": {},
   "source": [
    "### Can you use a bagging classifier already build as an estimator for the another BaggingClassifier??"
   ]
  },
  {
   "cell_type": "markdown",
   "metadata": {},
   "source": [
    "# YES"
   ]
  },
  {
   "cell_type": "code",
   "execution_count": 27,
   "metadata": {},
   "outputs": [
    {
     "data": {
      "text/html": [
       "<style>#sk-container-id-7 {color: black;background-color: white;}#sk-container-id-7 pre{padding: 0;}#sk-container-id-7 div.sk-toggleable {background-color: white;}#sk-container-id-7 label.sk-toggleable__label {cursor: pointer;display: block;width: 100%;margin-bottom: 0;padding: 0.3em;box-sizing: border-box;text-align: center;}#sk-container-id-7 label.sk-toggleable__label-arrow:before {content: \"▸\";float: left;margin-right: 0.25em;color: #696969;}#sk-container-id-7 label.sk-toggleable__label-arrow:hover:before {color: black;}#sk-container-id-7 div.sk-estimator:hover label.sk-toggleable__label-arrow:before {color: black;}#sk-container-id-7 div.sk-toggleable__content {max-height: 0;max-width: 0;overflow: hidden;text-align: left;background-color: #f0f8ff;}#sk-container-id-7 div.sk-toggleable__content pre {margin: 0.2em;color: black;border-radius: 0.25em;background-color: #f0f8ff;}#sk-container-id-7 input.sk-toggleable__control:checked~div.sk-toggleable__content {max-height: 200px;max-width: 100%;overflow: auto;}#sk-container-id-7 input.sk-toggleable__control:checked~label.sk-toggleable__label-arrow:before {content: \"▾\";}#sk-container-id-7 div.sk-estimator input.sk-toggleable__control:checked~label.sk-toggleable__label {background-color: #d4ebff;}#sk-container-id-7 div.sk-label input.sk-toggleable__control:checked~label.sk-toggleable__label {background-color: #d4ebff;}#sk-container-id-7 input.sk-hidden--visually {border: 0;clip: rect(1px 1px 1px 1px);clip: rect(1px, 1px, 1px, 1px);height: 1px;margin: -1px;overflow: hidden;padding: 0;position: absolute;width: 1px;}#sk-container-id-7 div.sk-estimator {font-family: monospace;background-color: #f0f8ff;border: 1px dotted black;border-radius: 0.25em;box-sizing: border-box;margin-bottom: 0.5em;}#sk-container-id-7 div.sk-estimator:hover {background-color: #d4ebff;}#sk-container-id-7 div.sk-parallel-item::after {content: \"\";width: 100%;border-bottom: 1px solid gray;flex-grow: 1;}#sk-container-id-7 div.sk-label:hover label.sk-toggleable__label {background-color: #d4ebff;}#sk-container-id-7 div.sk-serial::before {content: \"\";position: absolute;border-left: 1px solid gray;box-sizing: border-box;top: 0;bottom: 0;left: 50%;z-index: 0;}#sk-container-id-7 div.sk-serial {display: flex;flex-direction: column;align-items: center;background-color: white;padding-right: 0.2em;padding-left: 0.2em;position: relative;}#sk-container-id-7 div.sk-item {position: relative;z-index: 1;}#sk-container-id-7 div.sk-parallel {display: flex;align-items: stretch;justify-content: center;background-color: white;position: relative;}#sk-container-id-7 div.sk-item::before, #sk-container-id-7 div.sk-parallel-item::before {content: \"\";position: absolute;border-left: 1px solid gray;box-sizing: border-box;top: 0;bottom: 0;left: 50%;z-index: -1;}#sk-container-id-7 div.sk-parallel-item {display: flex;flex-direction: column;z-index: 1;position: relative;background-color: white;}#sk-container-id-7 div.sk-parallel-item:first-child::after {align-self: flex-end;width: 50%;}#sk-container-id-7 div.sk-parallel-item:last-child::after {align-self: flex-start;width: 50%;}#sk-container-id-7 div.sk-parallel-item:only-child::after {width: 0;}#sk-container-id-7 div.sk-dashed-wrapped {border: 1px dashed gray;margin: 0 0.4em 0.5em 0.4em;box-sizing: border-box;padding-bottom: 0.4em;background-color: white;}#sk-container-id-7 div.sk-label label {font-family: monospace;font-weight: bold;display: inline-block;line-height: 1.2em;}#sk-container-id-7 div.sk-label-container {text-align: center;}#sk-container-id-7 div.sk-container {/* jupyter's `normalize.less` sets `[hidden] { display: none; }` but bootstrap.min.css set `[hidden] { display: none !important; }` so we also need the `!important` here to be able to override the default hidden behavior on the sphinx rendered scikit-learn.org. See: https://github.com/scikit-learn/scikit-learn/issues/21755 */display: inline-block !important;position: relative;}#sk-container-id-7 div.sk-text-repr-fallback {display: none;}</style><div id=\"sk-container-id-7\" class=\"sk-top-container\"><div class=\"sk-text-repr-fallback\"><pre>BaggingClassifier(estimator=BaggingClassifier(estimator=SVC(), random_state=0),\n",
       "                  random_state=0)</pre><b>In a Jupyter environment, please rerun this cell to show the HTML representation or trust the notebook. <br />On GitHub, the HTML representation is unable to render, please try loading this page with nbviewer.org.</b></div><div class=\"sk-container\" hidden><div class=\"sk-item sk-dashed-wrapped\"><div class=\"sk-label-container\"><div class=\"sk-label sk-toggleable\"><input class=\"sk-toggleable__control sk-hidden--visually\" id=\"sk-estimator-id-18\" type=\"checkbox\" ><label for=\"sk-estimator-id-18\" class=\"sk-toggleable__label sk-toggleable__label-arrow\">BaggingClassifier</label><div class=\"sk-toggleable__content\"><pre>BaggingClassifier(estimator=BaggingClassifier(estimator=SVC(), random_state=0),\n",
       "                  random_state=0)</pre></div></div></div><div class=\"sk-parallel\"><div class=\"sk-parallel-item\"><div class=\"sk-item\"><div class=\"sk-label-container\"><div class=\"sk-label sk-toggleable\"><input class=\"sk-toggleable__control sk-hidden--visually\" id=\"sk-estimator-id-19\" type=\"checkbox\" ><label for=\"sk-estimator-id-19\" class=\"sk-toggleable__label sk-toggleable__label-arrow\">estimator: BaggingClassifier</label><div class=\"sk-toggleable__content\"><pre>BaggingClassifier(estimator=SVC(), random_state=0)</pre></div></div></div><div class=\"sk-serial\"><div class=\"sk-item sk-dashed-wrapped\"><div class=\"sk-parallel\"><div class=\"sk-parallel-item\"><div class=\"sk-item\"><div class=\"sk-label-container\"><div class=\"sk-label sk-toggleable\"><input class=\"sk-toggleable__control sk-hidden--visually\" id=\"sk-estimator-id-20\" type=\"checkbox\" ><label for=\"sk-estimator-id-20\" class=\"sk-toggleable__label sk-toggleable__label-arrow\">estimator: SVC</label><div class=\"sk-toggleable__content\"><pre>SVC()</pre></div></div></div><div class=\"sk-serial\"><div class=\"sk-item\"><div class=\"sk-estimator sk-toggleable\"><input class=\"sk-toggleable__control sk-hidden--visually\" id=\"sk-estimator-id-21\" type=\"checkbox\" ><label for=\"sk-estimator-id-21\" class=\"sk-toggleable__label sk-toggleable__label-arrow\">SVC</label><div class=\"sk-toggleable__content\"><pre>SVC()</pre></div></div></div></div></div></div></div></div></div></div></div></div></div></div></div>"
      ],
      "text/plain": [
       "BaggingClassifier(estimator=BaggingClassifier(estimator=SVC(), random_state=0),\n",
       "                  random_state=0)"
      ]
     },
     "execution_count": 27,
     "metadata": {},
     "output_type": "execute_result"
    }
   ],
   "source": [
    "clf3 =  BaggingClassifier(clf,n_estimators=10, random_state=0).fit(X, y)\n",
    "clf3"
   ]
  },
  {
   "cell_type": "markdown",
   "metadata": {},
   "source": [
    "## **clf3 is a two-tier ensemble model.**"
   ]
  },
  {
   "cell_type": "markdown",
   "metadata": {},
   "source": [
    "* The first tier (inside clf) creates an ensemble of SVC classifiers, and the second tier (the clf3 itself) is an ensemble of these ensembles.\n",
    "*  This approach is quite complex and not commonly used, as it involves multiple layers of randomness and aggregation, which can make the model more challenging to interpret and potentially lead to overfitting. "
   ]
  },
  {
   "cell_type": "code",
   "execution_count": 28,
   "metadata": {},
   "outputs": [
    {
     "data": {
      "text/html": [
       "<style>#sk-container-id-8 {color: black;background-color: white;}#sk-container-id-8 pre{padding: 0;}#sk-container-id-8 div.sk-toggleable {background-color: white;}#sk-container-id-8 label.sk-toggleable__label {cursor: pointer;display: block;width: 100%;margin-bottom: 0;padding: 0.3em;box-sizing: border-box;text-align: center;}#sk-container-id-8 label.sk-toggleable__label-arrow:before {content: \"▸\";float: left;margin-right: 0.25em;color: #696969;}#sk-container-id-8 label.sk-toggleable__label-arrow:hover:before {color: black;}#sk-container-id-8 div.sk-estimator:hover label.sk-toggleable__label-arrow:before {color: black;}#sk-container-id-8 div.sk-toggleable__content {max-height: 0;max-width: 0;overflow: hidden;text-align: left;background-color: #f0f8ff;}#sk-container-id-8 div.sk-toggleable__content pre {margin: 0.2em;color: black;border-radius: 0.25em;background-color: #f0f8ff;}#sk-container-id-8 input.sk-toggleable__control:checked~div.sk-toggleable__content {max-height: 200px;max-width: 100%;overflow: auto;}#sk-container-id-8 input.sk-toggleable__control:checked~label.sk-toggleable__label-arrow:before {content: \"▾\";}#sk-container-id-8 div.sk-estimator input.sk-toggleable__control:checked~label.sk-toggleable__label {background-color: #d4ebff;}#sk-container-id-8 div.sk-label input.sk-toggleable__control:checked~label.sk-toggleable__label {background-color: #d4ebff;}#sk-container-id-8 input.sk-hidden--visually {border: 0;clip: rect(1px 1px 1px 1px);clip: rect(1px, 1px, 1px, 1px);height: 1px;margin: -1px;overflow: hidden;padding: 0;position: absolute;width: 1px;}#sk-container-id-8 div.sk-estimator {font-family: monospace;background-color: #f0f8ff;border: 1px dotted black;border-radius: 0.25em;box-sizing: border-box;margin-bottom: 0.5em;}#sk-container-id-8 div.sk-estimator:hover {background-color: #d4ebff;}#sk-container-id-8 div.sk-parallel-item::after {content: \"\";width: 100%;border-bottom: 1px solid gray;flex-grow: 1;}#sk-container-id-8 div.sk-label:hover label.sk-toggleable__label {background-color: #d4ebff;}#sk-container-id-8 div.sk-serial::before {content: \"\";position: absolute;border-left: 1px solid gray;box-sizing: border-box;top: 0;bottom: 0;left: 50%;z-index: 0;}#sk-container-id-8 div.sk-serial {display: flex;flex-direction: column;align-items: center;background-color: white;padding-right: 0.2em;padding-left: 0.2em;position: relative;}#sk-container-id-8 div.sk-item {position: relative;z-index: 1;}#sk-container-id-8 div.sk-parallel {display: flex;align-items: stretch;justify-content: center;background-color: white;position: relative;}#sk-container-id-8 div.sk-item::before, #sk-container-id-8 div.sk-parallel-item::before {content: \"\";position: absolute;border-left: 1px solid gray;box-sizing: border-box;top: 0;bottom: 0;left: 50%;z-index: -1;}#sk-container-id-8 div.sk-parallel-item {display: flex;flex-direction: column;z-index: 1;position: relative;background-color: white;}#sk-container-id-8 div.sk-parallel-item:first-child::after {align-self: flex-end;width: 50%;}#sk-container-id-8 div.sk-parallel-item:last-child::after {align-self: flex-start;width: 50%;}#sk-container-id-8 div.sk-parallel-item:only-child::after {width: 0;}#sk-container-id-8 div.sk-dashed-wrapped {border: 1px dashed gray;margin: 0 0.4em 0.5em 0.4em;box-sizing: border-box;padding-bottom: 0.4em;background-color: white;}#sk-container-id-8 div.sk-label label {font-family: monospace;font-weight: bold;display: inline-block;line-height: 1.2em;}#sk-container-id-8 div.sk-label-container {text-align: center;}#sk-container-id-8 div.sk-container {/* jupyter's `normalize.less` sets `[hidden] { display: none; }` but bootstrap.min.css set `[hidden] { display: none !important; }` so we also need the `!important` here to be able to override the default hidden behavior on the sphinx rendered scikit-learn.org. See: https://github.com/scikit-learn/scikit-learn/issues/21755 */display: inline-block !important;position: relative;}#sk-container-id-8 div.sk-text-repr-fallback {display: none;}</style><div id=\"sk-container-id-8\" class=\"sk-top-container\"><div class=\"sk-text-repr-fallback\"><pre>BaggingClassifier(estimator=BaggingClassifier(), random_state=0)</pre><b>In a Jupyter environment, please rerun this cell to show the HTML representation or trust the notebook. <br />On GitHub, the HTML representation is unable to render, please try loading this page with nbviewer.org.</b></div><div class=\"sk-container\" hidden><div class=\"sk-item sk-dashed-wrapped\"><div class=\"sk-label-container\"><div class=\"sk-label sk-toggleable\"><input class=\"sk-toggleable__control sk-hidden--visually\" id=\"sk-estimator-id-22\" type=\"checkbox\" ><label for=\"sk-estimator-id-22\" class=\"sk-toggleable__label sk-toggleable__label-arrow\">BaggingClassifier</label><div class=\"sk-toggleable__content\"><pre>BaggingClassifier(estimator=BaggingClassifier(), random_state=0)</pre></div></div></div><div class=\"sk-parallel\"><div class=\"sk-parallel-item\"><div class=\"sk-item\"><div class=\"sk-label-container\"><div class=\"sk-label sk-toggleable\"><input class=\"sk-toggleable__control sk-hidden--visually\" id=\"sk-estimator-id-23\" type=\"checkbox\" ><label for=\"sk-estimator-id-23\" class=\"sk-toggleable__label sk-toggleable__label-arrow\">estimator: BaggingClassifier</label><div class=\"sk-toggleable__content\"><pre>BaggingClassifier()</pre></div></div></div><div class=\"sk-serial\"><div class=\"sk-item\"><div class=\"sk-estimator sk-toggleable\"><input class=\"sk-toggleable__control sk-hidden--visually\" id=\"sk-estimator-id-24\" type=\"checkbox\" ><label for=\"sk-estimator-id-24\" class=\"sk-toggleable__label sk-toggleable__label-arrow\">BaggingClassifier</label><div class=\"sk-toggleable__content\"><pre>BaggingClassifier()</pre></div></div></div></div></div></div></div></div></div></div>"
      ],
      "text/plain": [
       "BaggingClassifier(estimator=BaggingClassifier(), random_state=0)"
      ]
     },
     "execution_count": 28,
     "metadata": {},
     "output_type": "execute_result"
    }
   ],
   "source": [
    "clf4 = BaggingClassifier(clf2,n_estimators=10, random_state=0).fit(X, y)\n",
    "clf4"
   ]
  },
  {
   "cell_type": "markdown",
   "metadata": {},
   "source": [
    "## **clf4 is a two-tier ensemble model.**"
   ]
  },
  {
   "cell_type": "markdown",
   "metadata": {},
   "source": [
    "* The first tier (inside clf) creates an ensemble of SVC classifiers, and the second tier (the clf4 itself) is an ensemble of these ensembles.\n",
    "*  This approach is quite complex and not commonly used, as it involves multiple layers of randomness and aggregation, which can make the model more challenging to interpret and potentially lead to overfitting. "
   ]
  },
  {
   "cell_type": "code",
   "execution_count": null,
   "metadata": {},
   "outputs": [],
   "source": []
  },
  {
   "cell_type": "code",
   "execution_count": null,
   "metadata": {},
   "outputs": [],
   "source": []
  }
 ],
 "metadata": {
  "kernelspec": {
   "display_name": "base",
   "language": "python",
   "name": "python3"
  },
  "language_info": {
   "codemirror_mode": {
    "name": "ipython",
    "version": 3
   },
   "file_extension": ".py",
   "mimetype": "text/x-python",
   "name": "python",
   "nbconvert_exporter": "python",
   "pygments_lexer": "ipython3",
   "version": "3.11.3"
  }
 },
 "nbformat": 4,
 "nbformat_minor": 2
}
